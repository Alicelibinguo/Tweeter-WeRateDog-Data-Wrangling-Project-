{
 "cells": [
  {
   "cell_type": "code",
   "execution_count": 17,
   "metadata": {},
   "outputs": [],
   "source": [
    "#Import all python package used in the project \n",
    "import pandas as pd\n",
    "import numpy as np \n",
    "import os\n",
    "import matplotlib.pyplot as plt\n",
    "import datetime\n",
    "import sys"
   ]
  },
  {
   "cell_type": "code",
   "execution_count": 18,
   "metadata": {},
   "outputs": [],
   "source": [
    "Archive_clean = pd.read_csv('twitter_archive_master.csv')\n",
    "imagePrediction_clean=pd.read_csv('imagePrediction_master.csv')"
   ]
  },
  {
   "cell_type": "code",
   "execution_count": 25,
   "metadata": {},
   "outputs": [],
   "source": [
    "Archive_clean['month'] = Archive_clean['month'].astype(str)"
   ]
  },
  {
   "cell_type": "markdown",
   "metadata": {},
   "source": [
    "# Data Analysis and Visualization\n",
    "\n",
    "#### 1. I created dog_stage and rating column in the wrangling step, it's time to look at what type of dog_stage has highest rating."
   ]
  },
  {
   "cell_type": "code",
   "execution_count": 26,
   "metadata": {},
   "outputs": [
    {
     "data": {
      "text/plain": [
       "dog_stage\n",
       "doggo          1.184722\n",
       "doggopupper    1.111111\n",
       "floofer        1.180000\n",
       "pupper         1.080543\n",
       "puppo          1.204167\n",
       "Name: rating, dtype: float64"
      ]
     },
     "execution_count": 26,
     "metadata": {},
     "output_type": "execute_result"
    }
   ],
   "source": [
    "grouped1 = Archive_clean.groupby(['dog_stage'])['rating'].mean()\n",
    "grouped1"
   ]
  },
  {
   "cell_type": "code",
   "execution_count": 27,
   "metadata": {},
   "outputs": [
    {
     "data": {
      "image/png": "[encoded data removed]",
      "text/plain": [
       "<matplotlib.figure.Figure at 0x7f917db5ecf8>"
      ]
     },
     "metadata": {},
     "output_type": "display_data"
    }
   ],
   "source": [
    "grouped1.plot(kind ='barh', align='center', alpha=0.5)\n",
    "plt.xlabel('Average Dog Rating')\n",
    "plt.title('Average Dog Rating by Dog Stage')\n",
    "plt.show()"
   ]
  },
  {
   "cell_type": "markdown",
   "metadata": {},
   "source": [
    "### Insight 1\n",
    "From the Average Dog Rating by Dog Stage bar chart, we can see Puppo has the highest average rating among all stages, which is 1.21. Puppy is too cute to refuse to give a good score, while Pupper has the least average rating."
   ]
  },
  {
   "cell_type": "markdown",
   "metadata": {},
   "source": [
    "#### 2. I am also curious to see which factor contributes to high retweet_count and favorite_count"
   ]
  },
  {
   "cell_type": "code",
   "execution_count": 28,
   "metadata": {},
   "outputs": [
    {
     "data": {
      "text/html": [
       "<div>\n",
       "<style>\n",
       "    .dataframe thead tr:only-child th {\n",
       "        text-align: right;\n",
       "    }\n",
       "\n",
       "    .dataframe thead th {\n",
       "        text-align: left;\n",
       "    }\n",
       "\n",
       "    .dataframe tbody tr th {\n",
       "        vertical-align: top;\n",
       "    }\n",
       "</style>\n",
       "<table border=\"1\" class=\"dataframe\">\n",
       "  <thead>\n",
       "    <tr style=\"text-align: right;\">\n",
       "      <th></th>\n",
       "      <th></th>\n",
       "      <th>retweet_count</th>\n",
       "      <th>favorite_count</th>\n",
       "    </tr>\n",
       "    <tr>\n",
       "      <th>rating_numerator</th>\n",
       "      <th>rating_denominator</th>\n",
       "      <th></th>\n",
       "      <th></th>\n",
       "    </tr>\n",
       "  </thead>\n",
       "  <tbody>\n",
       "    <tr>\n",
       "      <th>0.0</th>\n",
       "      <th>10</th>\n",
       "      <td>3387.000000</td>\n",
       "      <td>24242.000000</td>\n",
       "    </tr>\n",
       "    <tr>\n",
       "      <th>1.0</th>\n",
       "      <th>10</th>\n",
       "      <td>NaN</td>\n",
       "      <td>NaN</td>\n",
       "    </tr>\n",
       "    <tr>\n",
       "      <th>2.0</th>\n",
       "      <th>10</th>\n",
       "      <td>NaN</td>\n",
       "      <td>NaN</td>\n",
       "    </tr>\n",
       "    <tr>\n",
       "      <th>3.0</th>\n",
       "      <th>10</th>\n",
       "      <td>NaN</td>\n",
       "      <td>NaN</td>\n",
       "    </tr>\n",
       "    <tr>\n",
       "      <th rowspan=\"2\" valign=\"top\">4.0</th>\n",
       "      <th>10</th>\n",
       "      <td>NaN</td>\n",
       "      <td>NaN</td>\n",
       "    </tr>\n",
       "    <tr>\n",
       "      <th>20</th>\n",
       "      <td>NaN</td>\n",
       "      <td>NaN</td>\n",
       "    </tr>\n",
       "    <tr>\n",
       "      <th>5.0</th>\n",
       "      <th>10</th>\n",
       "      <td>NaN</td>\n",
       "      <td>NaN</td>\n",
       "    </tr>\n",
       "    <tr>\n",
       "      <th>6.0</th>\n",
       "      <th>10</th>\n",
       "      <td>3380.000000</td>\n",
       "      <td>17381.000000</td>\n",
       "    </tr>\n",
       "    <tr>\n",
       "      <th rowspan=\"2\" valign=\"top\">7.0</th>\n",
       "      <th>10</th>\n",
       "      <td>NaN</td>\n",
       "      <td>NaN</td>\n",
       "    </tr>\n",
       "    <tr>\n",
       "      <th>11</th>\n",
       "      <td>NaN</td>\n",
       "      <td>NaN</td>\n",
       "    </tr>\n",
       "    <tr>\n",
       "      <th>8.0</th>\n",
       "      <th>10</th>\n",
       "      <td>NaN</td>\n",
       "      <td>NaN</td>\n",
       "    </tr>\n",
       "    <tr>\n",
       "      <th rowspan=\"2\" valign=\"top\">9.0</th>\n",
       "      <th>10</th>\n",
       "      <td>NaN</td>\n",
       "      <td>NaN</td>\n",
       "    </tr>\n",
       "    <tr>\n",
       "      <th>11</th>\n",
       "      <td>NaN</td>\n",
       "      <td>NaN</td>\n",
       "    </tr>\n",
       "    <tr>\n",
       "      <th>10.0</th>\n",
       "      <th>10</th>\n",
       "      <td>4466.000000</td>\n",
       "      <td>18392.800000</td>\n",
       "    </tr>\n",
       "    <tr>\n",
       "      <th>11.0</th>\n",
       "      <th>10</th>\n",
       "      <td>4177.052632</td>\n",
       "      <td>19654.052632</td>\n",
       "    </tr>\n",
       "    <tr>\n",
       "      <th>12.0</th>\n",
       "      <th>10</th>\n",
       "      <td>4885.980583</td>\n",
       "      <td>22358.223301</td>\n",
       "    </tr>\n",
       "    <tr>\n",
       "      <th>13.0</th>\n",
       "      <th>10</th>\n",
       "      <td>6936.429577</td>\n",
       "      <td>28176.894366</td>\n",
       "    </tr>\n",
       "    <tr>\n",
       "      <th>13.5</th>\n",
       "      <th>10</th>\n",
       "      <td>10189.000000</td>\n",
       "      <td>46366.000000</td>\n",
       "    </tr>\n",
       "    <tr>\n",
       "      <th>14.0</th>\n",
       "      <th>10</th>\n",
       "      <td>7371.550000</td>\n",
       "      <td>29679.250000</td>\n",
       "    </tr>\n",
       "    <tr>\n",
       "      <th>24.0</th>\n",
       "      <th>7</th>\n",
       "      <td>NaN</td>\n",
       "      <td>NaN</td>\n",
       "    </tr>\n",
       "    <tr>\n",
       "      <th>26.0</th>\n",
       "      <th>10</th>\n",
       "      <td>NaN</td>\n",
       "      <td>NaN</td>\n",
       "    </tr>\n",
       "    <tr>\n",
       "      <th>27.0</th>\n",
       "      <th>10</th>\n",
       "      <td>NaN</td>\n",
       "      <td>NaN</td>\n",
       "    </tr>\n",
       "    <tr>\n",
       "      <th>44.0</th>\n",
       "      <th>40</th>\n",
       "      <td>NaN</td>\n",
       "      <td>NaN</td>\n",
       "    </tr>\n",
       "    <tr>\n",
       "      <th>45.0</th>\n",
       "      <th>50</th>\n",
       "      <td>NaN</td>\n",
       "      <td>NaN</td>\n",
       "    </tr>\n",
       "    <tr>\n",
       "      <th>50.0</th>\n",
       "      <th>50</th>\n",
       "      <td>NaN</td>\n",
       "      <td>NaN</td>\n",
       "    </tr>\n",
       "    <tr>\n",
       "      <th>60.0</th>\n",
       "      <th>50</th>\n",
       "      <td>NaN</td>\n",
       "      <td>NaN</td>\n",
       "    </tr>\n",
       "    <tr>\n",
       "      <th>75.0</th>\n",
       "      <th>10</th>\n",
       "      <td>NaN</td>\n",
       "      <td>NaN</td>\n",
       "    </tr>\n",
       "    <tr>\n",
       "      <th>80.0</th>\n",
       "      <th>80</th>\n",
       "      <td>NaN</td>\n",
       "      <td>NaN</td>\n",
       "    </tr>\n",
       "    <tr>\n",
       "      <th>84.0</th>\n",
       "      <th>70</th>\n",
       "      <td>NaN</td>\n",
       "      <td>NaN</td>\n",
       "    </tr>\n",
       "    <tr>\n",
       "      <th>88.0</th>\n",
       "      <th>80</th>\n",
       "      <td>NaN</td>\n",
       "      <td>NaN</td>\n",
       "    </tr>\n",
       "    <tr>\n",
       "      <th>99.0</th>\n",
       "      <th>90</th>\n",
       "      <td>NaN</td>\n",
       "      <td>NaN</td>\n",
       "    </tr>\n",
       "    <tr>\n",
       "      <th>121.0</th>\n",
       "      <th>110</th>\n",
       "      <td>NaN</td>\n",
       "      <td>NaN</td>\n",
       "    </tr>\n",
       "    <tr>\n",
       "      <th>144.0</th>\n",
       "      <th>120</th>\n",
       "      <td>NaN</td>\n",
       "      <td>NaN</td>\n",
       "    </tr>\n",
       "    <tr>\n",
       "      <th>165.0</th>\n",
       "      <th>150</th>\n",
       "      <td>NaN</td>\n",
       "      <td>NaN</td>\n",
       "    </tr>\n",
       "    <tr>\n",
       "      <th>204.0</th>\n",
       "      <th>170</th>\n",
       "      <td>NaN</td>\n",
       "      <td>NaN</td>\n",
       "    </tr>\n",
       "    <tr>\n",
       "      <th>420.0</th>\n",
       "      <th>10</th>\n",
       "      <td>NaN</td>\n",
       "      <td>NaN</td>\n",
       "    </tr>\n",
       "    <tr>\n",
       "      <th>1776.0</th>\n",
       "      <th>10</th>\n",
       "      <td>NaN</td>\n",
       "      <td>NaN</td>\n",
       "    </tr>\n",
       "  </tbody>\n",
       "</table>\n",
       "</div>"
      ],
      "text/plain": [
       "                                     retweet_count  favorite_count\n",
       "rating_numerator rating_denominator                               \n",
       "0.0              10                    3387.000000    24242.000000\n",
       "1.0              10                            NaN             NaN\n",
       "2.0              10                            NaN             NaN\n",
       "3.0              10                            NaN             NaN\n",
       "4.0              10                            NaN             NaN\n",
       "                 20                            NaN             NaN\n",
       "5.0              10                            NaN             NaN\n",
       "6.0              10                    3380.000000    17381.000000\n",
       "7.0              10                            NaN             NaN\n",
       "                 11                            NaN             NaN\n",
       "8.0              10                            NaN             NaN\n",
       "9.0              10                            NaN             NaN\n",
       "                 11                            NaN             NaN\n",
       "10.0             10                    4466.000000    18392.800000\n",
       "11.0             10                    4177.052632    19654.052632\n",
       "12.0             10                    4885.980583    22358.223301\n",
       "13.0             10                    6936.429577    28176.894366\n",
       "13.5             10                   10189.000000    46366.000000\n",
       "14.0             10                    7371.550000    29679.250000\n",
       "24.0             7                             NaN             NaN\n",
       "26.0             10                            NaN             NaN\n",
       "27.0             10                            NaN             NaN\n",
       "44.0             40                            NaN             NaN\n",
       "45.0             50                            NaN             NaN\n",
       "50.0             50                            NaN             NaN\n",
       "60.0             50                            NaN             NaN\n",
       "75.0             10                            NaN             NaN\n",
       "80.0             80                            NaN             NaN\n",
       "84.0             70                            NaN             NaN\n",
       "88.0             80                            NaN             NaN\n",
       "99.0             90                            NaN             NaN\n",
       "121.0            110                           NaN             NaN\n",
       "144.0            120                           NaN             NaN\n",
       "165.0            150                           NaN             NaN\n",
       "204.0            170                           NaN             NaN\n",
       "420.0            10                            NaN             NaN\n",
       "1776.0           10                            NaN             NaN"
      ]
     },
     "execution_count": 28,
     "metadata": {},
     "output_type": "execute_result"
    }
   ],
   "source": [
    "Archive_clean.groupby(['rating_numerator','rating_denominator'])['retweet_count','favorite_count'].mean()"
   ]
  },
  {
   "cell_type": "markdown",
   "metadata": {},
   "source": [
    "### Insight 2\n",
    "#### Rating group between 10/10 to 15 /10 have highest average retweet_count and favorite_count, this is not surprising since most of tweets' rating are within this range. However, there are some outliers that can be spotted on, such as 0/10,5/10,6/10 tweets actually have really high retweet_count and favorite_count, especially 6/10 rating's tweet. This shows low rating intrigue people's tweeting passion more than extreme high rating,for example 666/10 and 182/10."
   ]
  },
  {
   "cell_type": "markdown",
   "metadata": {},
   "source": [
    "#### Also, time study about rating, retweet_count and favorite_count is interesting"
   ]
  },
  {
   "cell_type": "code",
   "execution_count": 29,
   "metadata": {},
   "outputs": [
    {
     "data": {
      "text/html": [
       "<div>\n",
       "<style>\n",
       "    .dataframe thead tr:only-child th {\n",
       "        text-align: right;\n",
       "    }\n",
       "\n",
       "    .dataframe thead th {\n",
       "        text-align: left;\n",
       "    }\n",
       "\n",
       "    .dataframe tbody tr th {\n",
       "        vertical-align: top;\n",
       "    }\n",
       "</style>\n",
       "<table border=\"1\" class=\"dataframe\">\n",
       "  <thead>\n",
       "    <tr style=\"text-align: right;\">\n",
       "      <th></th>\n",
       "      <th>rating</th>\n",
       "      <th>retweet_count</th>\n",
       "      <th>favorite_count</th>\n",
       "    </tr>\n",
       "    <tr>\n",
       "      <th>month</th>\n",
       "      <th></th>\n",
       "      <th></th>\n",
       "      <th></th>\n",
       "    </tr>\n",
       "  </thead>\n",
       "  <tbody>\n",
       "    <tr>\n",
       "      <th>201511</th>\n",
       "      <td>1.031081</td>\n",
       "      <td>NaN</td>\n",
       "      <td>NaN</td>\n",
       "    </tr>\n",
       "    <tr>\n",
       "      <th>201512</th>\n",
       "      <td>0.964247</td>\n",
       "      <td>NaN</td>\n",
       "      <td>NaN</td>\n",
       "    </tr>\n",
       "    <tr>\n",
       "      <th>201601</th>\n",
       "      <td>1.022057</td>\n",
       "      <td>NaN</td>\n",
       "      <td>NaN</td>\n",
       "    </tr>\n",
       "    <tr>\n",
       "      <th>201602</th>\n",
       "      <td>1.014876</td>\n",
       "      <td>NaN</td>\n",
       "      <td>NaN</td>\n",
       "    </tr>\n",
       "    <tr>\n",
       "      <th>201603</th>\n",
       "      <td>1.051515</td>\n",
       "      <td>NaN</td>\n",
       "      <td>NaN</td>\n",
       "    </tr>\n",
       "    <tr>\n",
       "      <th>201604</th>\n",
       "      <td>1.055000</td>\n",
       "      <td>NaN</td>\n",
       "      <td>NaN</td>\n",
       "    </tr>\n",
       "    <tr>\n",
       "      <th>201605</th>\n",
       "      <td>1.089831</td>\n",
       "      <td>NaN</td>\n",
       "      <td>NaN</td>\n",
       "    </tr>\n",
       "    <tr>\n",
       "      <th>201606</th>\n",
       "      <td>1.039091</td>\n",
       "      <td>NaN</td>\n",
       "      <td>NaN</td>\n",
       "    </tr>\n",
       "    <tr>\n",
       "      <th>201607</th>\n",
       "      <td>2.926042</td>\n",
       "      <td>NaN</td>\n",
       "      <td>NaN</td>\n",
       "    </tr>\n",
       "    <tr>\n",
       "      <th>201608</th>\n",
       "      <td>1.096721</td>\n",
       "      <td>NaN</td>\n",
       "      <td>NaN</td>\n",
       "    </tr>\n",
       "    <tr>\n",
       "      <th>201609</th>\n",
       "      <td>1.147826</td>\n",
       "      <td>NaN</td>\n",
       "      <td>NaN</td>\n",
       "    </tr>\n",
       "    <tr>\n",
       "      <th>201610</th>\n",
       "      <td>1.263889</td>\n",
       "      <td>NaN</td>\n",
       "      <td>NaN</td>\n",
       "    </tr>\n",
       "    <tr>\n",
       "      <th>201611</th>\n",
       "      <td>1.203704</td>\n",
       "      <td>NaN</td>\n",
       "      <td>NaN</td>\n",
       "    </tr>\n",
       "    <tr>\n",
       "      <th>201612</th>\n",
       "      <td>1.235589</td>\n",
       "      <td>NaN</td>\n",
       "      <td>NaN</td>\n",
       "    </tr>\n",
       "    <tr>\n",
       "      <th>201701</th>\n",
       "      <td>1.226087</td>\n",
       "      <td>NaN</td>\n",
       "      <td>NaN</td>\n",
       "    </tr>\n",
       "    <tr>\n",
       "      <th>201702</th>\n",
       "      <td>1.213235</td>\n",
       "      <td>4386.574074</td>\n",
       "      <td>18663.407407</td>\n",
       "    </tr>\n",
       "    <tr>\n",
       "      <th>201703</th>\n",
       "      <td>1.234615</td>\n",
       "      <td>4871.788462</td>\n",
       "      <td>20400.019231</td>\n",
       "    </tr>\n",
       "    <tr>\n",
       "      <th>201704</th>\n",
       "      <td>1.226190</td>\n",
       "      <td>5737.261905</td>\n",
       "      <td>23139.642857</td>\n",
       "    </tr>\n",
       "    <tr>\n",
       "      <th>201705</th>\n",
       "      <td>1.276744</td>\n",
       "      <td>7779.162791</td>\n",
       "      <td>29944.255814</td>\n",
       "    </tr>\n",
       "    <tr>\n",
       "      <th>201706</th>\n",
       "      <td>1.258333</td>\n",
       "      <td>6480.000000</td>\n",
       "      <td>28786.520833</td>\n",
       "    </tr>\n",
       "    <tr>\n",
       "      <th>201707</th>\n",
       "      <td>1.283333</td>\n",
       "      <td>7107.901961</td>\n",
       "      <td>32715.411765</td>\n",
       "    </tr>\n",
       "    <tr>\n",
       "      <th>201708</th>\n",
       "      <td>1.300000</td>\n",
       "      <td>7545.000000</td>\n",
       "      <td>36324.500000</td>\n",
       "    </tr>\n",
       "  </tbody>\n",
       "</table>\n",
       "</div>"
      ],
      "text/plain": [
       "          rating  retweet_count  favorite_count\n",
       "month                                          \n",
       "201511  1.031081            NaN             NaN\n",
       "201512  0.964247            NaN             NaN\n",
       "201601  1.022057            NaN             NaN\n",
       "201602  1.014876            NaN             NaN\n",
       "201603  1.051515            NaN             NaN\n",
       "201604  1.055000            NaN             NaN\n",
       "201605  1.089831            NaN             NaN\n",
       "201606  1.039091            NaN             NaN\n",
       "201607  2.926042            NaN             NaN\n",
       "201608  1.096721            NaN             NaN\n",
       "201609  1.147826            NaN             NaN\n",
       "201610  1.263889            NaN             NaN\n",
       "201611  1.203704            NaN             NaN\n",
       "201612  1.235589            NaN             NaN\n",
       "201701  1.226087            NaN             NaN\n",
       "201702  1.213235    4386.574074    18663.407407\n",
       "201703  1.234615    4871.788462    20400.019231\n",
       "201704  1.226190    5737.261905    23139.642857\n",
       "201705  1.276744    7779.162791    29944.255814\n",
       "201706  1.258333    6480.000000    28786.520833\n",
       "201707  1.283333    7107.901961    32715.411765\n",
       "201708  1.300000    7545.000000    36324.500000"
      ]
     },
     "execution_count": 29,
     "metadata": {},
     "output_type": "execute_result"
    }
   ],
   "source": [
    "Archive_clean.groupby(['month'])['rating','retweet_count','favorite_count'].mean()"
   ]
  },
  {
   "cell_type": "markdown",
   "metadata": {},
   "source": [
    "#### Above table shows that there are no retweet_count and favorite_count date before 2017 february. Let's create a line chart for month and rating data."
   ]
  },
  {
   "cell_type": "code",
   "execution_count": 30,
   "metadata": {},
   "outputs": [
    {
     "data": {
      "image/png": "[encoded data removed]",
      "text/plain": [
       "<matplotlib.figure.Figure at 0x7f917e1d46d8>"
      ]
     },
     "metadata": {},
     "output_type": "display_data"
    },
    {
     "data": {
      "image/png": "[encoded data removed]",
      "text/plain": [
       "<matplotlib.figure.Figure at 0x7f917dd86a20>"
      ]
     },
     "metadata": {},
     "output_type": "display_data"
    },
    {
     "data": {
      "image/png": "[encoded data removed]",
      "text/plain": [
       "<matplotlib.figure.Figure at 0x7f917dd633c8>"
      ]
     },
     "metadata": {},
     "output_type": "display_data"
    }
   ],
   "source": [
    "grouped2 =Archive_clean.groupby(['month'])['rating'].mean()\n",
    "grouped3 =Archive_clean[Archive_clean['month'].isin(['201702','201703''201704','201705','201706','201707'])].groupby(['month'])['retweet_count','favorite_count'].mean()\n",
    "grouped4 =Archive_clean[Archive_clean['month'].isin(['201702','201703''201704','201705','201706','201707'])].groupby(['month'])['retweet_count','favorite_count'].sum()\n",
    "\n",
    "grouped2.plot(kind ='line')\n",
    "plt.title('Average Rating trend over months')\n",
    "plt.ylabel('Average Rating')\n",
    "plt.xlabel('year month')\n",
    "plt.legend()\n",
    "plt.show()\n",
    "\n",
    "grouped3.plot(kind ='line')\n",
    "plt.title('Average Retweet Count and Favorite Count trend by month')\n",
    "plt.ylabel('Average retweet_count and favorite_count')\n",
    "plt.xlabel('year month')\n",
    "plt.legend()\n",
    "plt.show()\n",
    "\n",
    "grouped4.plot(kind ='line')\n",
    "plt.title('Sum of Retweet Count and Favorite Count trend by month')\n",
    "plt.ylabel('Overall retweet_count and favorite_count')\n",
    "plt.xlabel('year month')\n",
    "plt.legend()\n",
    "plt.show()"
   ]
  },
  {
   "cell_type": "markdown",
   "metadata": {},
   "source": [
    "### Insight 3\n",
    "#### There is interesting pattern in the above graphs. In Average Rating trend over months line chart, there is two peaks, one is around 201607 and another is around 201704. 201607 has average rating 2.77 and 201704 has 3.0, there must be some outlier rating which makes average rating so high."
   ]
  },
  {
   "cell_type": "code",
   "execution_count": 31,
   "metadata": {},
   "outputs": [
    {
     "data": {
      "text/plain": [
       "Series([], Name: rating, dtype: float64)"
      ]
     },
     "execution_count": 31,
     "metadata": {},
     "output_type": "execute_result"
    }
   ],
   "source": [
    "Archive_clean[Archive_clean['month'] == 201607].groupby(['month'])['rating'].mean()"
   ]
  },
  {
   "cell_type": "code",
   "execution_count": 32,
   "metadata": {},
   "outputs": [
    {
     "data": {
      "text/plain": [
       "Series([], Name: rating, dtype: float64)"
      ]
     },
     "execution_count": 32,
     "metadata": {},
     "output_type": "execute_result"
    }
   ],
   "source": [
    "Archive_clean[Archive_clean['month'] == 201704].groupby(['month'])['rating'].mean()"
   ]
  },
  {
   "cell_type": "code",
   "execution_count": 33,
   "metadata": {},
   "outputs": [
    {
     "data": {
      "text/plain": [
       "Series([], Name: rating_numerator, dtype: int64)"
      ]
     },
     "execution_count": 33,
     "metadata": {},
     "output_type": "execute_result"
    }
   ],
   "source": [
    "Archive_clean[Archive_clean['month'] == 201607]['rating_numerator'].value_counts()"
   ]
  },
  {
   "cell_type": "markdown",
   "metadata": {},
   "source": [
    "I was right, one 1776 rating make average rating sky high in this months.\n",
    "Additionally, average Retweet Count and Favorite Count are increasing from 201702 to 201708, but the overall summary of  Retweet Count and Favorite Count are increasing 201706, then decreasing."
   ]
  },
  {
   "cell_type": "markdown",
   "metadata": {},
   "source": [
    "#### 3. I also am interested to answer these questions  in  image prediction table,\n",
    "    what is top 5 breed of dog has the highest right confidence probablity for 3 prediction?\n",
    "    which num of image has the count of most_confident_img_num?\n",
    "    what's the dog breed prediction rate among 3 dog indicators?  \n",
    "    which breed of dog have the highest rating?"
   ]
  },
  {
   "cell_type": "code",
   "execution_count": 34,
   "metadata": {},
   "outputs": [],
   "source": [
    "p1 = imagePrediction_clean[imagePrediction_clean['dogbreed_indicator1'] ==True].groupby(['prediction1'])['prediction_confidence1'].mean()\n",
    "p2 = imagePrediction_clean[imagePrediction_clean['dogbreed_indicator1'] ==True].groupby(['prediction2'])['prediction_confidence2'].mean()\n",
    "p3 = imagePrediction_clean[imagePrediction_clean['dogbreed_indicator1'] ==True].groupby(['prediction3'])['prediction_confidence3'].mean()"
   ]
  },
  {
   "cell_type": "code",
   "execution_count": 35,
   "metadata": {},
   "outputs": [
    {
     "data": {
      "text/plain": [
       "prediction1\n",
       "komondor            0.972567\n",
       "clumber             0.946700\n",
       "brittany_spaniel    0.874557\n",
       "keeshond            0.844450\n",
       "bull_mastiff        0.815600\n",
       "Name: prediction_confidence1, dtype: float64"
      ]
     },
     "execution_count": 35,
     "metadata": {},
     "output_type": "execute_result"
    }
   ],
   "source": [
    "p1.nlargest(5)"
   ]
  },
  {
   "cell_type": "code",
   "execution_count": 36,
   "metadata": {},
   "outputs": [
    {
     "data": {
      "text/plain": [
       "prediction2\n",
       "giant_schnauzer       0.288000\n",
       "standard_schnauzer    0.285300\n",
       "sea_lion              0.275600\n",
       "cairn                 0.265775\n",
       "kerry_blue_terrier    0.250000\n",
       "Name: prediction_confidence2, dtype: float64"
      ]
     },
     "execution_count": 36,
     "metadata": {},
     "output_type": "execute_result"
    }
   ],
   "source": [
    "p2.nlargest(5)"
   ]
  },
  {
   "cell_type": "code",
   "execution_count": 37,
   "metadata": {},
   "outputs": [
    {
     "data": {
      "text/plain": [
       "prediction3\n",
       "briard         0.1930\n",
       "box_turtle     0.1643\n",
       "feather_boa    0.1593\n",
       "mitten         0.1389\n",
       "conch          0.1303\n",
       "Name: prediction_confidence3, dtype: float64"
      ]
     },
     "execution_count": 37,
     "metadata": {},
     "output_type": "execute_result"
    }
   ],
   "source": [
    "p3.nlargest(5)"
   ]
  },
  {
   "cell_type": "markdown",
   "metadata": {},
   "source": [
    "#### There is no dog breed in 3 top 5 list at the same time, schnauzer has pretty high confidence rate in prediction2."
   ]
  },
  {
   "cell_type": "code",
   "execution_count": 38,
   "metadata": {},
   "outputs": [
    {
     "data": {
      "text/plain": [
       "1    1780\n",
       "2     198\n",
       "3      66\n",
       "4      31\n",
       "Name: most_confident_img_num, dtype: int64"
      ]
     },
     "execution_count": 38,
     "metadata": {},
     "output_type": "execute_result"
    }
   ],
   "source": [
    "imagePrediction_clean['most_confident_img_num'].value_counts()"
   ]
  },
  {
   "cell_type": "markdown",
   "metadata": {},
   "source": [
    "#### As predicted, prediction1 has the highest count of most_confident_img_num."
   ]
  },
  {
   "cell_type": "code",
   "execution_count": 39,
   "metadata": {},
   "outputs": [
    {
     "data": {
      "text/plain": [
       "0.7334939759036144"
      ]
     },
     "execution_count": 39,
     "metadata": {},
     "output_type": "execute_result"
    }
   ],
   "source": [
    "#Get dog breed prediciton percetage\n",
    "len(imagePrediction_clean[imagePrediction_clean['dogbreed_indicator1'] ==True])/len(imagePrediction_clean)"
   ]
  },
  {
   "cell_type": "code",
   "execution_count": 40,
   "metadata": {},
   "outputs": [
    {
     "data": {
      "text/plain": [
       "0.7397590361445783"
      ]
     },
     "execution_count": 40,
     "metadata": {},
     "output_type": "execute_result"
    }
   ],
   "source": [
    "len(imagePrediction_clean[imagePrediction_clean['dogbreed_indicator2'] ==True])/len(imagePrediction_clean)"
   ]
  },
  {
   "cell_type": "code",
   "execution_count": 41,
   "metadata": {},
   "outputs": [
    {
     "data": {
      "text/plain": [
       "0.7151807228915663"
      ]
     },
     "execution_count": 41,
     "metadata": {},
     "output_type": "execute_result"
    }
   ],
   "source": [
    "len(imagePrediction_clean[imagePrediction_clean['dogbreed_indicator3'] ==True])/len(imagePrediction_clean)"
   ]
  },
  {
   "cell_type": "markdown",
   "metadata": {},
   "source": [
    "#### The prediction ratte for 3 dog breed are from 71.5% to 73.3%. Among 3 prediction of dog breed column, dogbreed_indicator2 has the highest dog breed prediction rate. "
   ]
  },
  {
   "cell_type": "code",
   "execution_count": 42,
   "metadata": {},
   "outputs": [],
   "source": [
    "#Merge Archive_clean and  imagePrediction table\n",
    "Archive_clean = pd.merge(Archive_clean, imagePrediction_clean,\n",
    "                            on=['tweet_id'], how='left')"
   ]
  },
  {
   "cell_type": "code",
   "execution_count": 43,
   "metadata": {},
   "outputs": [
    {
     "data": {
      "text/html": [
       "<div>\n",
       "<style>\n",
       "    .dataframe thead tr:only-child th {\n",
       "        text-align: right;\n",
       "    }\n",
       "\n",
       "    .dataframe thead th {\n",
       "        text-align: left;\n",
       "    }\n",
       "\n",
       "    .dataframe tbody tr th {\n",
       "        vertical-align: top;\n",
       "    }\n",
       "</style>\n",
       "<table border=\"1\" class=\"dataframe\">\n",
       "  <thead>\n",
       "    <tr style=\"text-align: right;\">\n",
       "      <th></th>\n",
       "      <th>tweet_id</th>\n",
       "      <th>timestamp</th>\n",
       "      <th>source</th>\n",
       "      <th>text</th>\n",
       "      <th>expanded_urls</th>\n",
       "      <th>rating_numerator</th>\n",
       "      <th>rating_denominator</th>\n",
       "      <th>name</th>\n",
       "      <th>dog_stage</th>\n",
       "      <th>retweet_count</th>\n",
       "      <th>...</th>\n",
       "      <th>most_confident_img_num</th>\n",
       "      <th>prediction1</th>\n",
       "      <th>prediction_confidence1</th>\n",
       "      <th>dogbreed_indicator1</th>\n",
       "      <th>prediction2</th>\n",
       "      <th>prediction_confidence2</th>\n",
       "      <th>dogbreed_indicator2</th>\n",
       "      <th>prediction3</th>\n",
       "      <th>prediction_confidence3</th>\n",
       "      <th>dogbreed_indicator3</th>\n",
       "    </tr>\n",
       "  </thead>\n",
       "  <tbody>\n",
       "    <tr>\n",
       "      <th>2094</th>\n",
       "      <td>666033412701032449</td>\n",
       "      <td>2015-11-15 23:21:54</td>\n",
       "      <td>Twitter for iPhone</td>\n",
       "      <td>Here is a very happy pup. Big fan of well-main...</td>\n",
       "      <td>https://twitter.com/dog_rates/status/666033412...</td>\n",
       "      <td>9.0</td>\n",
       "      <td>10</td>\n",
       "      <td>NaN</td>\n",
       "      <td>NaN</td>\n",
       "      <td>NaN</td>\n",
       "      <td>...</td>\n",
       "      <td>1.0</td>\n",
       "      <td>german_shepherd</td>\n",
       "      <td>0.5965</td>\n",
       "      <td>True</td>\n",
       "      <td>malinois</td>\n",
       "      <td>0.1386</td>\n",
       "      <td>True</td>\n",
       "      <td>bloodhound</td>\n",
       "      <td>0.1162</td>\n",
       "      <td>True</td>\n",
       "    </tr>\n",
       "    <tr>\n",
       "      <th>2095</th>\n",
       "      <td>666029285002620928</td>\n",
       "      <td>2015-11-15 23:05:30</td>\n",
       "      <td>Twitter for iPhone</td>\n",
       "      <td>This is a western brown Mitsubishi terrier. Up...</td>\n",
       "      <td>https://twitter.com/dog_rates/status/666029285...</td>\n",
       "      <td>7.0</td>\n",
       "      <td>10</td>\n",
       "      <td>NaN</td>\n",
       "      <td>NaN</td>\n",
       "      <td>NaN</td>\n",
       "      <td>...</td>\n",
       "      <td>1.0</td>\n",
       "      <td>redbone</td>\n",
       "      <td>0.5068</td>\n",
       "      <td>True</td>\n",
       "      <td>miniature_pinscher</td>\n",
       "      <td>0.0742</td>\n",
       "      <td>True</td>\n",
       "      <td>rhodesian_ridgeback</td>\n",
       "      <td>0.0720</td>\n",
       "      <td>True</td>\n",
       "    </tr>\n",
       "    <tr>\n",
       "      <th>2096</th>\n",
       "      <td>666020888022790149</td>\n",
       "      <td>2015-11-15 22:32:08</td>\n",
       "      <td>Twitter for iPhone</td>\n",
       "      <td>Here we have a Japanese Irish Setter. Lost eye...</td>\n",
       "      <td>https://twitter.com/dog_rates/status/666020888...</td>\n",
       "      <td>8.0</td>\n",
       "      <td>10</td>\n",
       "      <td>NaN</td>\n",
       "      <td>NaN</td>\n",
       "      <td>NaN</td>\n",
       "      <td>...</td>\n",
       "      <td>1.0</td>\n",
       "      <td>welsh_springer_spaniel</td>\n",
       "      <td>0.4651</td>\n",
       "      <td>True</td>\n",
       "      <td>collie</td>\n",
       "      <td>0.1567</td>\n",
       "      <td>True</td>\n",
       "      <td>shetland_sheepdog</td>\n",
       "      <td>0.0614</td>\n",
       "      <td>True</td>\n",
       "    </tr>\n",
       "  </tbody>\n",
       "</table>\n",
       "<p>3 rows × 25 columns</p>\n",
       "</div>"
      ],
      "text/plain": [
       "                tweet_id            timestamp              source  \\\n",
       "2094  666033412701032449  2015-11-15 23:21:54  Twitter for iPhone   \n",
       "2095  666029285002620928  2015-11-15 23:05:30  Twitter for iPhone   \n",
       "2096  666020888022790149  2015-11-15 22:32:08  Twitter for iPhone   \n",
       "\n",
       "                                                   text  \\\n",
       "2094  Here is a very happy pup. Big fan of well-main...   \n",
       "2095  This is a western brown Mitsubishi terrier. Up...   \n",
       "2096  Here we have a Japanese Irish Setter. Lost eye...   \n",
       "\n",
       "                                          expanded_urls  rating_numerator  \\\n",
       "2094  https://twitter.com/dog_rates/status/666033412...               9.0   \n",
       "2095  https://twitter.com/dog_rates/status/666029285...               7.0   \n",
       "2096  https://twitter.com/dog_rates/status/666020888...               8.0   \n",
       "\n",
       "      rating_denominator name dog_stage  retweet_count         ...          \\\n",
       "2094                  10  NaN       NaN            NaN         ...           \n",
       "2095                  10  NaN       NaN            NaN         ...           \n",
       "2096                  10  NaN       NaN            NaN         ...           \n",
       "\n",
       "      most_confident_img_num             prediction1  prediction_confidence1  \\\n",
       "2094                     1.0         german_shepherd                  0.5965   \n",
       "2095                     1.0                 redbone                  0.5068   \n",
       "2096                     1.0  welsh_springer_spaniel                  0.4651   \n",
       "\n",
       "      dogbreed_indicator1         prediction2  prediction_confidence2  \\\n",
       "2094                 True            malinois                  0.1386   \n",
       "2095                 True  miniature_pinscher                  0.0742   \n",
       "2096                 True              collie                  0.1567   \n",
       "\n",
       "     dogbreed_indicator2          prediction3 prediction_confidence3  \\\n",
       "2094                True           bloodhound                 0.1162   \n",
       "2095                True  rhodesian_ridgeback                 0.0720   \n",
       "2096                True    shetland_sheepdog                 0.0614   \n",
       "\n",
       "     dogbreed_indicator3  \n",
       "2094                True  \n",
       "2095                True  \n",
       "2096                True  \n",
       "\n",
       "[3 rows x 25 columns]"
      ]
     },
     "execution_count": 43,
     "metadata": {},
     "output_type": "execute_result"
    }
   ],
   "source": [
    "Archive_clean.tail(3)"
   ]
  },
  {
   "cell_type": "code",
   "execution_count": 44,
   "metadata": {},
   "outputs": [
    {
     "data": {
      "text/plain": [
       "prediction1\n",
       "clumber               2.700000\n",
       "pomeranian            1.286842\n",
       "saluki                1.250000\n",
       "briard                1.233333\n",
       "tibetan_mastiff       1.225000\n",
       "border_terrier        1.214286\n",
       "kuvasz                1.200000\n",
       "silky_terrier         1.200000\n",
       "standard_schnauzer    1.200000\n",
       "eskimo_dog            1.177778\n",
       "Name: rating, dtype: float64"
      ]
     },
     "execution_count": 44,
     "metadata": {},
     "output_type": "execute_result"
    }
   ],
   "source": [
    "b1 =Archive_clean[Archive_clean['dogbreed_indicator1'] ==True].groupby(['prediction1'])['rating'].mean()\n",
    "b2 =Archive_clean[Archive_clean['dogbreed_indicator2'] ==True].groupby(['prediction2'])['rating'].mean()\n",
    "b3 =Archive_clean[Archive_clean['dogbreed_indicator3'] ==True].groupby(['prediction3'])['rating'].mean()\n",
    "b1.nlargest(10)\n",
    "#List top 10 dog breed"
   ]
  },
  {
   "cell_type": "code",
   "execution_count": 47,
   "metadata": {},
   "outputs": [
    {
     "data": {
      "text/plain": [
       "prediction2\n",
       "tibetan_mastiff         1.335238\n",
       "afghan_hound            1.225000\n",
       "doberman                1.220000\n",
       "norwich_terrier         1.200000\n",
       "appenzeller             1.200000\n",
       "bernese_mountain_dog    1.200000\n",
       "dalmatian               1.200000\n",
       "entlebucher             1.200000\n",
       "saluki                  1.200000\n",
       "scotch_terrier          1.200000\n",
       "Name: rating, dtype: float64"
      ]
     },
     "execution_count": 47,
     "metadata": {},
     "output_type": "execute_result"
    }
   ],
   "source": [
    "b2.nlargest(10)"
   ]
  },
  {
   "cell_type": "code",
   "execution_count": 48,
   "metadata": {},
   "outputs": [
    {
     "data": {
      "text/plain": [
       "prediction3\n",
       "chow                       1.356667\n",
       "bouvier_des_flandres       1.300000\n",
       "kerry_blue_terrier         1.300000\n",
       "black-and-tan_coonhound    1.266667\n",
       "briard                     1.200000\n",
       "leonberg                   1.200000\n",
       "standard_schnauzer         1.200000\n",
       "sussex_spaniel             1.200000\n",
       "basenji                    1.195000\n",
       "rottweiler                 1.190000\n",
       "Name: rating, dtype: float64"
      ]
     },
     "execution_count": 48,
     "metadata": {},
     "output_type": "execute_result"
    }
   ],
   "source": [
    "b3.nlargest(10)"
   ]
  },
  {
   "cell_type": "markdown",
   "metadata": {},
   "source": [
    "### Insight 4\n",
    "#### This three lists show the preference of weRateDog tweeter. we can see clumber is undoubtly his favorate dog breed, then pomeranian, saluki shows up in both prediction, so are tibetan_mastiff and standard_schnauzer. "
   ]
  }
 ],
 "metadata": {
  "kernelspec": {
   "display_name": "Python 3",
   "language": "python",
   "name": "python3"
  },
  "language_info": {
   "codemirror_mode": {
    "name": "ipython",
    "version": 3
   },
   "file_extension": ".py",
   "mimetype": "text/x-python",
   "name": "python",
   "nbconvert_exporter": "python",
   "pygments_lexer": "ipython3",
   "version": "3.6.3"
  }
 },
 "nbformat": 4,
 "nbformat_minor": 2
}
